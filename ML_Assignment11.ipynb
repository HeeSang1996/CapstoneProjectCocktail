{
  "nbformat": 4,
  "nbformat_minor": 0,
  "metadata": {
    "colab": {
      "name": "ML_Assignment11.ipynb",
      "provenance": [],
      "collapsed_sections": [],
      "authorship_tag": "ABX9TyNPHmE1NLVFUi41L5timtvl",
      "include_colab_link": true
    },
    "kernelspec": {
      "name": "python3",
      "display_name": "Python 3"
    }
  },
  "cells": [
    {
      "cell_type": "markdown",
      "metadata": {
        "id": "view-in-github",
        "colab_type": "text"
      },
      "source": [
        "<a href=\"https://colab.research.google.com/github/HeeSang1996/CapstoneProjectCocktail/blob/master/ML_Assignment11.ipynb\" target=\"_parent\"><img src=\"https://colab.research.google.com/assets/colab-badge.svg\" alt=\"Open In Colab\"/></a>"
      ]
    },
    {
      "cell_type": "code",
      "metadata": {
        "id": "sjZJm7Ee2P0k",
        "colab_type": "code",
        "colab": {
          "base_uri": "https://localhost:8080/",
          "height": 89
        },
        "outputId": "ea808422-a490-4240-eb5f-c4b616cb3713"
      },
      "source": [
        "import numpy as np\n",
        "import re\n",
        "import nltk\n",
        "from sklearn.datasets import load_files\n",
        "nltk.download('stopwords')\n",
        "nltk.download('wordnet')\n",
        "import pickle\n",
        "from nltk.corpus import stopwords\n",
        "from nltk.stem import WordNetLemmatizer\n",
        "from sklearn.feature_extraction.text import CountVectorizer\n",
        "from sklearn.feature_extraction.text import TfidfTransformer\n",
        "from sklearn.model_selection import train_test_split\n",
        "\n",
        "\n",
        "review_data = load_files(r\"movie_review\")\n",
        "X, y = review_data.data, review_data.target\n",
        "\n",
        "documents = []\n",
        "\n",
        "stemmer = WordNetLemmatizer()\n",
        "\n",
        "for sen in range(0, len(X)):\n",
        "    # Remove all the special characters\n",
        "    document = re.sub(r'\\W', ' ', str(X[sen]))\n",
        "    \n",
        "    # remove all single characters\n",
        "    document = re.sub(r'\\s+[a-zA-Z]\\s+', ' ', document)\n",
        "    \n",
        "    # Remove single characters from the start\n",
        "    document = re.sub(r'\\^[a-zA-Z]\\s+', ' ', document) \n",
        "    \n",
        "    # Substituting multiple spaces with single space\n",
        "    document = re.sub(r'\\s+', ' ', document, flags=re.I)\n",
        "    \n",
        "    # Removing prefixed 'b'\n",
        "    document = re.sub(r'^b\\s+', '', document)\n",
        "    \n",
        "    # Converting to Lowercase\n",
        "    document = document.lower()\n",
        "    \n",
        "    # Lemmatization\n",
        "    document = document.split()\n",
        "    document = [stemmer.lemmatize(word) for word in document]\n",
        "    document = ' '.join(document)\n",
        "    \n",
        "    documents.append(document)\n",
        "\n",
        "vectorizer = CountVectorizer(max_features=1500, min_df=5, max_df=0.7, stop_words=stopwords.words('english'))\n",
        "X = vectorizer.fit_transform(documents).toarray()\n",
        "\n",
        "tfidfconverter = TfidfTransformer()\n",
        "X = tfidfconverter.fit_transform(X).toarray()\n",
        "\n",
        "X_train, X_test, y_train, y_test = train_test_split(X, y, test_size=0.3, shuffle=False)\n",
        "\n",
        "X_train= np.transpose(X_train)\n",
        "X_test= np.transpose(X_test)\n",
        "\n",
        "y_train=y_train -1\n",
        "y_test=y_test -1 "
      ],
      "execution_count": 100,
      "outputs": [
        {
          "output_type": "stream",
          "text": [
            "[nltk_data] Downloading package stopwords to /root/nltk_data...\n",
            "[nltk_data]   Package stopwords is already up-to-date!\n",
            "[nltk_data] Downloading package wordnet to /root/nltk_data...\n",
            "[nltk_data]   Package wordnet is already up-to-date!\n"
          ],
          "name": "stdout"
        }
      ]
    },
    {
      "cell_type": "code",
      "metadata": {
        "id": "BM_OlAhSBsPA",
        "colab_type": "code",
        "colab": {}
      },
      "source": [
        "#num of each layer\n",
        "num_input_layer = 1500\n",
        "num_first_hidden_layer = 640\n",
        "num_output_layer = 1\n",
        "\n",
        "#bias\n",
        "x_bias = 1.0\n",
        "y_bias = 1.0\n",
        "\n",
        "#lambda\n",
        "lambda_ = 0.5"
      ],
      "execution_count": 308,
      "outputs": []
    },
    {
      "cell_type": "code",
      "metadata": {
        "id": "naYx4jj2ipu9",
        "colab_type": "code",
        "colab": {}
      },
      "source": [
        "#make random theta with normal distribution with bias\n",
        "initial_theta_u = np.random.normal(0.0,0.05,((num_input_layer+1),num_first_hidden_layer))\n",
        "initial_theta_v = np.random.normal(0.0,0.05,((num_first_hidden_layer+1),num_output_layer))\n",
        "#initial_theta_w = np.random.normal(0.0,1.0,((num_second_hidden_layer+1),num_output_layer))"
      ],
      "execution_count": 328,
      "outputs": []
    },
    {
      "cell_type": "code",
      "metadata": {
        "id": "cDCRTVucWwfa",
        "colab_type": "code",
        "colab": {}
      },
      "source": [
        "theta_u = initial_theta_u\n",
        "theta_v = initial_theta_v\n",
        "\n",
        "total_size_n = theta_u.size + theta_v.size"
      ],
      "execution_count": 329,
      "outputs": []
    },
    {
      "cell_type": "code",
      "metadata": {
        "id": "kjVWXKpAAaGA",
        "colab_type": "code",
        "colab": {}
      },
      "source": [
        "def sigmoidFunc(data):\n",
        "    sigmoidVal = 1/(1+np.exp(-data))\n",
        "    return(sigmoidVal)"
      ],
      "execution_count": 330,
      "outputs": []
    },
    {
      "cell_type": "code",
      "metadata": {
        "id": "9hcOE61xMSWI",
        "colab_type": "code",
        "colab": {}
      },
      "source": [
        "def neuralNetwork_train(start,end):\n",
        "    list_x_with_bias  = np.empty((num_input_layer+1, end-start), dtype=float)\n",
        "    list_y = np.empty((num_first_hidden_layer,end-start), dtype=float)\n",
        "    list_y_with_bias = np.empty((num_first_hidden_layer+1, end-start), dtype=float)\n",
        "    list_h = np.empty((1,(end-start)), dtype=float)\n",
        "    \n",
        "    list_label_ = np.empty((end-start), dtype=float)\n",
        "\n",
        "    count = 0\n",
        "    for i in range(start,end):\n",
        "        #add bias for x\n",
        "        list_x_with_bias[:, count] = np.insert(X_train[:,i],0,x_bias)\n",
        "        #u: x -> y\n",
        "        list_y[:,count]=np.dot(list_x_with_bias[:,count],theta_u)\n",
        "        list_y[:,count]=sigmoidFunc(list_y[:,count])\n",
        "        #add bias for y\n",
        "        list_y_with_bias[:,count]=np.insert(list_y[:,count],0,y_bias)\n",
        "        #v: y -> h\n",
        "        list_h[:,count]=np.dot(list_y_with_bias[:,count],theta_v)\n",
        "        list_h[:,count]=sigmoidFunc(list_h[:,count])\n",
        "        #label list\n",
        "        list_label_[count]=y_train[count]\n",
        "        count = count +1\n",
        "\n",
        "    return(list_x_with_bias,list_y_with_bias,list_h,list_label_)"
      ],
      "execution_count": 331,
      "outputs": []
    },
    {
      "cell_type": "code",
      "metadata": {
        "id": "-Ax-phMPFUle",
        "colab_type": "code",
        "colab": {}
      },
      "source": [
        "def neuralNetwork_test(start,end):\n",
        "    list_x_with_bias  = np.empty((num_input_layer+1, end-start), dtype=float)\n",
        "    list_y = np.empty((num_first_hidden_layer,end-start), dtype=float)\n",
        "    list_y_with_bias = np.empty((num_first_hidden_layer+1, end-start), dtype=float)\n",
        "    list_h = np.empty((1,(end-start)), dtype=float)\n",
        "    \n",
        "    list_label_ = np.empty((end-start), dtype=float)\n",
        "\n",
        "    count = 0\n",
        "    for i in range(start,end):\n",
        "        #add bias for x\n",
        "        list_x_with_bias[:, count] = np.insert(X_test[:,i],0,x_bias)\n",
        "        #u: x -> y\n",
        "        list_y[:,count]=np.dot(list_x_with_bias[:,count],theta_u)\n",
        "        list_y[:,count]=sigmoidFunc(list_y[:,count])\n",
        "        #add bias for y\n",
        "        list_y_with_bias[:,count]=np.insert(list_y[:,count],0,y_bias)\n",
        "        #v: y -> h\n",
        "        list_h[:,count]=np.dot(list_y_with_bias[:,count],theta_v)\n",
        "        list_h[:,count]=sigmoidFunc(list_h[:,count])\n",
        "        #label list\n",
        "        list_label_[count]=y_test[count]\n",
        "        count = count +1\n",
        "\n",
        "    return(list_x_with_bias,list_y_with_bias,list_h,list_label_)"
      ],
      "execution_count": 332,
      "outputs": []
    },
    {
      "cell_type": "code",
      "metadata": {
        "id": "m3j88rrRTrNq",
        "colab_type": "code",
        "colab": {}
      },
      "source": [
        "def lossFunction_train(output_list,start,end):\n",
        "    loss = 0.0\n",
        "    count = 0\n",
        "    accuracy_count=0\n",
        "    label_predict_train = 0\n",
        "    for i in range(start,end):\n",
        "        if (output_list[:,count]) >= 0.5:\n",
        "            label_predict_train =1\n",
        "        else:\n",
        "            label_predict_train = 0\n",
        "        if y_train[count]==label_predict_train:\n",
        "            accuracy_count = accuracy_count + 1;\n",
        "        loss += np.sum((-y_train[i])*np.log(output_list[:,i])-(1-y_train[i])*np.log(1-output_list[:,i]))  \n",
        "        count = count+1\n",
        "    loss = loss/(end - start)\n",
        "    loss += (lambda_ / (2*total_size_n))*(np.sum(np.square(theta_u)) + np.sum(np.square(theta_v)))\n",
        "    accuracy = accuracy_count/(end - start)\n",
        "    return(loss,accuracy)"
      ],
      "execution_count": 333,
      "outputs": []
    },
    {
      "cell_type": "code",
      "metadata": {
        "id": "LxEqwGnZGbFU",
        "colab_type": "code",
        "colab": {}
      },
      "source": [
        "def lossFunction_test(output_list,start,end):\n",
        "    loss = 0.0\n",
        "    count = 0\n",
        "    accuracy_count=0\n",
        "    label_predict_test = 0\n",
        "    for i in range(start,end):\n",
        "        if (output_list[:,count]) >= 0.5:\n",
        "            label_predict_test =1\n",
        "        else:\n",
        "            label_predict_test = 0\n",
        "        if y_test[i]==label_predict_test:\n",
        "            accuracy_count = accuracy_count + 1;\n",
        "        loss += np.sum((-y_test[i])*np.log(output_list[:,i])-(1-y_test[i])*np.log(1-output_list[:,i]))  \n",
        "        count = count+1\n",
        "    loss = loss/(end - start)\n",
        "    loss += (lambda_ / (2*total_size_n))*(np.sum(np.square(theta_u)) + np.sum(np.square(theta_v)))\n",
        "    accuracy = accuracy_count/(end - start)\n",
        "    return(loss,accuracy)"
      ],
      "execution_count": 334,
      "outputs": []
    },
    {
      "cell_type": "code",
      "metadata": {
        "id": "Jh6eGovMxg7e",
        "colab_type": "code",
        "colab": {}
      },
      "source": [
        "#step size and step range\n",
        "step_size = 0.05\n",
        "step_range = 100\n",
        "\n",
        "training_size = 1400\n",
        "testing_size = 600"
      ],
      "execution_count": 335,
      "outputs": []
    },
    {
      "cell_type": "code",
      "metadata": {
        "id": "7JgGYG0MP7eP",
        "colab_type": "code",
        "colab": {}
      },
      "source": [
        "training_loss_value_list = []\n",
        "training_accuracy_value_list = []\n",
        "testing_loss_value_list = []\n",
        "testing_accuracy_value_list = []\n",
        "\n",
        "for i in range(step_range):\n",
        "    (x_list_training,y_list_training,training_output_list,training_label_list) \\\n",
        "    = neuralNetwork_train(0,training_size)\n",
        "    (training_loss_value,training_accuracy_value)=lossFunction_train(training_output_list,0,training_size)\n",
        "    training_loss_value_list.append(training_loss_value)\n",
        "    training_accuracy_value_list.append(training_accuracy_value)\n",
        "\n",
        "    (_,_,testing_output_list,_) = neuralNetwork_test(0,testing_size)\n",
        "    (testing_loss_value,testing_accuracy_value)=lossFunction_test(testing_output_list,0,testing_size)\n",
        "    testing_loss_value_list.append(testing_loss_value)\n",
        "    testing_accuracy_value_list.append(testing_accuracy_value)\n",
        "\n",
        "    theta_u = theta_u - np.transpose((step_size/training_size)\\\n",
        "    *np.dot(np.dot(theta_v[1:,:],(training_output_list-training_label_list))\\\n",
        "    *y_list_training[1:,:]*(1-y_list_training[1:,:]),np.transpose(x_list_training)))\\\n",
        "    + (lambda_*theta_u)/total_size_n\n",
        "    theta_v = theta_v - (step_size/training_size) * \\\n",
        "    np.transpose(np.dot((training_output_list-training_label_list),np.transpose(y_list_training)))\\\n",
        "    +(lambda_*theta_v)/total_size_n"
      ],
      "execution_count": null,
      "outputs": []
    },
    {
      "cell_type": "code",
      "metadata": {
        "id": "52GXLbosmmdi",
        "colab_type": "code",
        "colab": {}
      },
      "source": [
        "y_pred_train = np.empty(training_size, dtype=float)\n",
        "for i in range(training_size):\n",
        "        if (output_list[:,count]) >= 0.5:\n",
        "            y_pred_train[i] =1\n",
        "        else:\n",
        "            y_pred_train[i] = 0\n",
        "y_pred_test = np.empty(testing_size, dtype=float)\n",
        "for i in range(testing_size):\n",
        "        if (output_list[:,count]) >= 0.5:\n",
        "            y_pred_test[i] =1\n",
        "        else:\n",
        "            y_pred_test[i] = 0"
      ],
      "execution_count": null,
      "outputs": []
    },
    {
      "cell_type": "markdown",
      "metadata": {
        "id": "T_mjULcwmuYL",
        "colab_type": "text"
      },
      "source": [
        "#1. Plot the loss curve"
      ]
    },
    {
      "cell_type": "code",
      "metadata": {
        "id": "hED8fDGFnDe7",
        "colab_type": "code",
        "colab": {
          "base_uri": "https://localhost:8080/",
          "height": 265
        },
        "outputId": "6c31ae4a-2e65-49cb-f1cd-50ea640d491e"
      },
      "source": [
        "import matplotlib.pyplot as plt\n",
        "plt.plot(list(range(step_range)),training_loss_value_list,c='blue')\n",
        "plt.plot(list(range(step_range)),testing_loss_value_list,c='red')\n",
        "plt.show()"
      ],
      "execution_count": 326,
      "outputs": [
        {
          "output_type": "display_data",
          "data": {
            "image/png": "[encoded data removed]",
            "text/plain": [
              "<Figure size 432x288 with 1 Axes>"
            ]
          },
          "metadata": {
            "tags": [],
            "needs_background": "light"
          }
        }
      ]
    },
    {
      "cell_type": "markdown",
      "metadata": {
        "id": "uKIFPRvBm1y5",
        "colab_type": "text"
      },
      "source": [
        "#2. Plot the accuracy curve"
      ]
    },
    {
      "cell_type": "code",
      "metadata": {
        "id": "zIiEUQ9bnBXj",
        "colab_type": "code",
        "colab": {
          "base_uri": "https://localhost:8080/",
          "height": 265
        },
        "outputId": "2fafc9ba-cb0a-4fb4-cad4-ec985f0d5756"
      },
      "source": [
        "plt.plot(list(range(step_range)),training_accuracy_value_list,c='blue')\n",
        "plt.plot(list(range(step_range)),testing_accuracy_value_list,c='red')\n",
        "plt.show()"
      ],
      "execution_count": 327,
      "outputs": [
        {
          "output_type": "display_data",
          "data": {
            "image/png": "[encoded data removed]",
            "text/plain": [
              "<Figure size 432x288 with 1 Axes>"
            ]
          },
          "metadata": {
            "tags": [],
            "needs_background": "light"
          }
        }
      ]
    },
    {
      "cell_type": "markdown",
      "metadata": {
        "id": "pMEzUbHQm4-5",
        "colab_type": "text"
      },
      "source": [
        "#3. Plot the quantitative results"
      ]
    },
    {
      "cell_type": "code",
      "metadata": {
        "id": "R9p2MjYW5aI-",
        "colab_type": "code",
        "colab": {
          "base_uri": "https://localhost:8080/",
          "height": 244
        },
        "outputId": "aabf9d65-9a65-4f0b-8eb7-43009d3dd704"
      },
      "source": [
        "from sklearn.metrics import classification_report, confusion_matrix, accuracy_score\n",
        "\n",
        "print(confusion_matrix(y_train,y_pred_train))\n",
        "print(classification_report(y_train,y_pred_train))\n",
        "print(accuracy_score(y_train, y_pred_train))\n",
        "\n",
        "print(confusion_matrix(y_test,y_pred_test))\n",
        "print(classification_report(y_test,y_pred_test))\n",
        "print(accuracy_score(y_test, y_pred_test))"
      ],
      "execution_count": 323,
      "outputs": [
        {
          "output_type": "error",
          "ename": "NameError",
          "evalue": "ignored",
          "traceback": [
            "\u001b[0;31m---------------------------------------------------------------------------\u001b[0m",
            "\u001b[0;31mNameError\u001b[0m                                 Traceback (most recent call last)",
            "\u001b[0;32m<ipython-input-323-8ab34e62cc26>\u001b[0m in \u001b[0;36m<module>\u001b[0;34m()\u001b[0m\n\u001b[1;32m      1\u001b[0m \u001b[0;32mfrom\u001b[0m \u001b[0msklearn\u001b[0m\u001b[0;34m.\u001b[0m\u001b[0mmetrics\u001b[0m \u001b[0;32mimport\u001b[0m \u001b[0mclassification_report\u001b[0m\u001b[0;34m,\u001b[0m \u001b[0mconfusion_matrix\u001b[0m\u001b[0;34m,\u001b[0m \u001b[0maccuracy_score\u001b[0m\u001b[0;34m\u001b[0m\u001b[0;34m\u001b[0m\u001b[0m\n\u001b[1;32m      2\u001b[0m \u001b[0;34m\u001b[0m\u001b[0m\n\u001b[0;32m----> 3\u001b[0;31m \u001b[0mprint\u001b[0m\u001b[0;34m(\u001b[0m\u001b[0mconfusion_matrix\u001b[0m\u001b[0;34m(\u001b[0m\u001b[0my_train\u001b[0m\u001b[0;34m,\u001b[0m\u001b[0my_pred_train\u001b[0m\u001b[0;34m)\u001b[0m\u001b[0;34m)\u001b[0m\u001b[0;34m\u001b[0m\u001b[0;34m\u001b[0m\u001b[0m\n\u001b[0m\u001b[1;32m      4\u001b[0m \u001b[0mprint\u001b[0m\u001b[0;34m(\u001b[0m\u001b[0mclassification_report\u001b[0m\u001b[0;34m(\u001b[0m\u001b[0my_train\u001b[0m\u001b[0;34m,\u001b[0m\u001b[0my_pred_train\u001b[0m\u001b[0;34m)\u001b[0m\u001b[0;34m)\u001b[0m\u001b[0;34m\u001b[0m\u001b[0;34m\u001b[0m\u001b[0m\n\u001b[1;32m      5\u001b[0m \u001b[0mprint\u001b[0m\u001b[0;34m(\u001b[0m\u001b[0maccuracy_score\u001b[0m\u001b[0;34m(\u001b[0m\u001b[0my_train\u001b[0m\u001b[0;34m,\u001b[0m \u001b[0my_pred_train\u001b[0m\u001b[0;34m)\u001b[0m\u001b[0;34m)\u001b[0m\u001b[0;34m\u001b[0m\u001b[0;34m\u001b[0m\u001b[0m\n",
            "\u001b[0;31mNameError\u001b[0m: name 'y_pred_train' is not defined"
          ]
        }
      ]
    },
    {
      "cell_type": "markdown",
      "metadata": {
        "id": "n7LkNl8p2dWS",
        "colab_type": "text"
      },
      "source": [
        "#4. Testing accuracy"
      ]
    },
    {
      "cell_type": "code",
      "metadata": {
        "id": "UDNujFvv2e8r",
        "colab_type": "code",
        "colab": {}
      },
      "source": [
        "print(\"The final testing accuracy is \" + str(testing_accuracy_value_list[-1]*100)+\" %\")"
      ],
      "execution_count": null,
      "outputs": []
    }
  ]
}